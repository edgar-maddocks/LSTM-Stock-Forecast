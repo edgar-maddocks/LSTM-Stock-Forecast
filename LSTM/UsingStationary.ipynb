{
 "cells": [
  {
   "cell_type": "code",
   "execution_count": 1,
   "id": "9cf2f06d-aeaf-4114-b884-b293e59b6e7a",
   "metadata": {},
   "outputs": [],
   "source": [
    "import numpy as np\n",
    "import matplotlib.pyplot as plt\n",
    "import pandas as pd\n",
    "import yfinance as yf\n",
    "import pandas_ta as ta\n",
    "import math\n",
    "import tensorflow as tf"
   ]
  },
  {
   "cell_type": "code",
   "execution_count": 2,
   "id": "524dd2be-2b1f-4b25-98f5-e14fcc56d72e",
   "metadata": {},
   "outputs": [
    {
     "data": {
      "text/html": [
       "<div>\n",
       "<style scoped>\n",
       "    .dataframe tbody tr th:only-of-type {\n",
       "        vertical-align: middle;\n",
       "    }\n",
       "\n",
       "    .dataframe tbody tr th {\n",
       "        vertical-align: top;\n",
       "    }\n",
       "\n",
       "    .dataframe thead th {\n",
       "        text-align: right;\n",
       "    }\n",
       "</style>\n",
       "<table border=\"1\" class=\"dataframe\">\n",
       "  <thead>\n",
       "    <tr style=\"text-align: right;\">\n",
       "      <th></th>\n",
       "      <th>Date</th>\n",
       "      <th>Open</th>\n",
       "      <th>High</th>\n",
       "      <th>Low</th>\n",
       "      <th>Close</th>\n",
       "      <th>Adj Close</th>\n",
       "      <th>Volume</th>\n",
       "    </tr>\n",
       "  </thead>\n",
       "  <tbody>\n",
       "    <tr>\n",
       "      <th>0</th>\n",
       "      <td>1986-03-13</td>\n",
       "      <td>0.088542</td>\n",
       "      <td>0.101563</td>\n",
       "      <td>0.088542</td>\n",
       "      <td>0.097222</td>\n",
       "      <td>0.060396</td>\n",
       "      <td>1031788800</td>\n",
       "    </tr>\n",
       "    <tr>\n",
       "      <th>1</th>\n",
       "      <td>1986-03-14</td>\n",
       "      <td>0.097222</td>\n",
       "      <td>0.102431</td>\n",
       "      <td>0.097222</td>\n",
       "      <td>0.100694</td>\n",
       "      <td>0.062553</td>\n",
       "      <td>308160000</td>\n",
       "    </tr>\n",
       "    <tr>\n",
       "      <th>2</th>\n",
       "      <td>1986-03-17</td>\n",
       "      <td>0.100694</td>\n",
       "      <td>0.103299</td>\n",
       "      <td>0.100694</td>\n",
       "      <td>0.102431</td>\n",
       "      <td>0.063632</td>\n",
       "      <td>133171200</td>\n",
       "    </tr>\n",
       "    <tr>\n",
       "      <th>3</th>\n",
       "      <td>1986-03-18</td>\n",
       "      <td>0.102431</td>\n",
       "      <td>0.103299</td>\n",
       "      <td>0.098958</td>\n",
       "      <td>0.099826</td>\n",
       "      <td>0.062014</td>\n",
       "      <td>67766400</td>\n",
       "    </tr>\n",
       "    <tr>\n",
       "      <th>4</th>\n",
       "      <td>1986-03-19</td>\n",
       "      <td>0.099826</td>\n",
       "      <td>0.100694</td>\n",
       "      <td>0.097222</td>\n",
       "      <td>0.098090</td>\n",
       "      <td>0.060936</td>\n",
       "      <td>47894400</td>\n",
       "    </tr>\n",
       "    <tr>\n",
       "      <th>...</th>\n",
       "      <td>...</td>\n",
       "      <td>...</td>\n",
       "      <td>...</td>\n",
       "      <td>...</td>\n",
       "      <td>...</td>\n",
       "      <td>...</td>\n",
       "      <td>...</td>\n",
       "    </tr>\n",
       "    <tr>\n",
       "      <th>9466</th>\n",
       "      <td>2023-10-04</td>\n",
       "      <td>314.029999</td>\n",
       "      <td>320.040009</td>\n",
       "      <td>314.000000</td>\n",
       "      <td>318.959991</td>\n",
       "      <td>318.959991</td>\n",
       "      <td>20720100</td>\n",
       "    </tr>\n",
       "    <tr>\n",
       "      <th>9467</th>\n",
       "      <td>2023-10-05</td>\n",
       "      <td>319.089996</td>\n",
       "      <td>319.980011</td>\n",
       "      <td>314.899994</td>\n",
       "      <td>319.359985</td>\n",
       "      <td>319.359985</td>\n",
       "      <td>16965600</td>\n",
       "    </tr>\n",
       "    <tr>\n",
       "      <th>9468</th>\n",
       "      <td>2023-10-06</td>\n",
       "      <td>316.549988</td>\n",
       "      <td>329.190002</td>\n",
       "      <td>316.299988</td>\n",
       "      <td>327.260010</td>\n",
       "      <td>327.260010</td>\n",
       "      <td>25645500</td>\n",
       "    </tr>\n",
       "    <tr>\n",
       "      <th>9469</th>\n",
       "      <td>2023-10-09</td>\n",
       "      <td>324.750000</td>\n",
       "      <td>330.299988</td>\n",
       "      <td>323.179993</td>\n",
       "      <td>329.820007</td>\n",
       "      <td>329.820007</td>\n",
       "      <td>19891200</td>\n",
       "    </tr>\n",
       "    <tr>\n",
       "      <th>9470</th>\n",
       "      <td>2023-10-10</td>\n",
       "      <td>330.959991</td>\n",
       "      <td>331.100006</td>\n",
       "      <td>327.670013</td>\n",
       "      <td>328.390015</td>\n",
       "      <td>328.390015</td>\n",
       "      <td>20536900</td>\n",
       "    </tr>\n",
       "  </tbody>\n",
       "</table>\n",
       "<p>9471 rows × 7 columns</p>\n",
       "</div>"
      ],
      "text/plain": [
       "            Date        Open        High         Low       Close   Adj Close  \\\n",
       "0     1986-03-13    0.088542    0.101563    0.088542    0.097222    0.060396   \n",
       "1     1986-03-14    0.097222    0.102431    0.097222    0.100694    0.062553   \n",
       "2     1986-03-17    0.100694    0.103299    0.100694    0.102431    0.063632   \n",
       "3     1986-03-18    0.102431    0.103299    0.098958    0.099826    0.062014   \n",
       "4     1986-03-19    0.099826    0.100694    0.097222    0.098090    0.060936   \n",
       "...          ...         ...         ...         ...         ...         ...   \n",
       "9466  2023-10-04  314.029999  320.040009  314.000000  318.959991  318.959991   \n",
       "9467  2023-10-05  319.089996  319.980011  314.899994  319.359985  319.359985   \n",
       "9468  2023-10-06  316.549988  329.190002  316.299988  327.260010  327.260010   \n",
       "9469  2023-10-09  324.750000  330.299988  323.179993  329.820007  329.820007   \n",
       "9470  2023-10-10  330.959991  331.100006  327.670013  328.390015  328.390015   \n",
       "\n",
       "          Volume  \n",
       "0     1031788800  \n",
       "1      308160000  \n",
       "2      133171200  \n",
       "3       67766400  \n",
       "4       47894400  \n",
       "...          ...  \n",
       "9466    20720100  \n",
       "9467    16965600  \n",
       "9468    25645500  \n",
       "9469    19891200  \n",
       "9470    20536900  \n",
       "\n",
       "[9471 rows x 7 columns]"
      ]
     },
     "execution_count": 2,
     "metadata": {},
     "output_type": "execute_result"
    }
   ],
   "source": [
    "data = pd.read_csv(\"MSFT.csv\")\n",
    "data"
   ]
  },
  {
   "cell_type": "code",
   "execution_count": 3,
   "id": "5753b8a9-baed-413f-875d-7066106fa367",
   "metadata": {},
   "outputs": [
    {
     "data": {
      "text/html": [
       "<div>\n",
       "<style scoped>\n",
       "    .dataframe tbody tr th:only-of-type {\n",
       "        vertical-align: middle;\n",
       "    }\n",
       "\n",
       "    .dataframe tbody tr th {\n",
       "        vertical-align: top;\n",
       "    }\n",
       "\n",
       "    .dataframe thead th {\n",
       "        text-align: right;\n",
       "    }\n",
       "</style>\n",
       "<table border=\"1\" class=\"dataframe\">\n",
       "  <thead>\n",
       "    <tr style=\"text-align: right;\">\n",
       "      <th></th>\n",
       "      <th>log_ret</th>\n",
       "      <th>RSILR</th>\n",
       "      <th>EMAFLR</th>\n",
       "      <th>EMAMLR</th>\n",
       "      <th>EMASLR</th>\n",
       "      <th>log_ret_next</th>\n",
       "    </tr>\n",
       "  </thead>\n",
       "  <tbody>\n",
       "    <tr>\n",
       "      <th>0</th>\n",
       "      <td>0.015037</td>\n",
       "      <td>50.994754</td>\n",
       "      <td>0.007848</td>\n",
       "      <td>0.002803</td>\n",
       "      <td>0.001204</td>\n",
       "      <td>0.043808</td>\n",
       "    </tr>\n",
       "    <tr>\n",
       "      <th>1</th>\n",
       "      <td>0.043808</td>\n",
       "      <td>54.276260</td>\n",
       "      <td>0.010614</td>\n",
       "      <td>0.003615</td>\n",
       "      <td>0.001768</td>\n",
       "      <td>0.000000</td>\n",
       "    </tr>\n",
       "    <tr>\n",
       "      <th>2</th>\n",
       "      <td>0.000000</td>\n",
       "      <td>48.930938</td>\n",
       "      <td>0.009798</td>\n",
       "      <td>0.003543</td>\n",
       "      <td>0.001745</td>\n",
       "      <td>0.028169</td>\n",
       "    </tr>\n",
       "    <tr>\n",
       "      <th>3</th>\n",
       "      <td>0.028169</td>\n",
       "      <td>52.175763</td>\n",
       "      <td>0.011211</td>\n",
       "      <td>0.004031</td>\n",
       "      <td>0.002094</td>\n",
       "      <td>0.006920</td>\n",
       "    </tr>\n",
       "    <tr>\n",
       "      <th>4</th>\n",
       "      <td>0.006920</td>\n",
       "      <td>49.627265</td>\n",
       "      <td>0.010881</td>\n",
       "      <td>0.004088</td>\n",
       "      <td>0.002158</td>\n",
       "      <td>0.040544</td>\n",
       "    </tr>\n",
       "    <tr>\n",
       "      <th>...</th>\n",
       "      <td>...</td>\n",
       "      <td>...</td>\n",
       "      <td>...</td>\n",
       "      <td>...</td>\n",
       "      <td>...</td>\n",
       "      <td>...</td>\n",
       "    </tr>\n",
       "    <tr>\n",
       "      <th>9316</th>\n",
       "      <td>-0.026482</td>\n",
       "      <td>44.596048</td>\n",
       "      <td>-0.002368</td>\n",
       "      <td>-0.000393</td>\n",
       "      <td>0.000106</td>\n",
       "      <td>0.017617</td>\n",
       "    </tr>\n",
       "    <tr>\n",
       "      <th>9317</th>\n",
       "      <td>0.017617</td>\n",
       "      <td>53.682327</td>\n",
       "      <td>-0.000831</td>\n",
       "      <td>-0.000036</td>\n",
       "      <td>0.000338</td>\n",
       "      <td>0.001253</td>\n",
       "    </tr>\n",
       "    <tr>\n",
       "      <th>9318</th>\n",
       "      <td>0.001253</td>\n",
       "      <td>50.396331</td>\n",
       "      <td>-0.000671</td>\n",
       "      <td>-0.000011</td>\n",
       "      <td>0.000350</td>\n",
       "      <td>0.024436</td>\n",
       "    </tr>\n",
       "    <tr>\n",
       "      <th>9319</th>\n",
       "      <td>0.024436</td>\n",
       "      <td>54.613343</td>\n",
       "      <td>0.001261</td>\n",
       "      <td>0.000473</td>\n",
       "      <td>0.000669</td>\n",
       "      <td>0.007792</td>\n",
       "    </tr>\n",
       "    <tr>\n",
       "      <th>9320</th>\n",
       "      <td>0.007792</td>\n",
       "      <td>51.261113</td>\n",
       "      <td>0.001763</td>\n",
       "      <td>0.000618</td>\n",
       "      <td>0.000763</td>\n",
       "      <td>-0.004345</td>\n",
       "    </tr>\n",
       "  </tbody>\n",
       "</table>\n",
       "<p>9321 rows × 6 columns</p>\n",
       "</div>"
      ],
      "text/plain": [
       "       log_ret      RSILR    EMAFLR    EMAMLR    EMASLR  log_ret_next\n",
       "0     0.015037  50.994754  0.007848  0.002803  0.001204      0.043808\n",
       "1     0.043808  54.276260  0.010614  0.003615  0.001768      0.000000\n",
       "2     0.000000  48.930938  0.009798  0.003543  0.001745      0.028169\n",
       "3     0.028169  52.175763  0.011211  0.004031  0.002094      0.006920\n",
       "4     0.006920  49.627265  0.010881  0.004088  0.002158      0.040544\n",
       "...        ...        ...       ...       ...       ...           ...\n",
       "9316 -0.026482  44.596048 -0.002368 -0.000393  0.000106      0.017617\n",
       "9317  0.017617  53.682327 -0.000831 -0.000036  0.000338      0.001253\n",
       "9318  0.001253  50.396331 -0.000671 -0.000011  0.000350      0.024436\n",
       "9319  0.024436  54.613343  0.001261  0.000473  0.000669      0.007792\n",
       "9320  0.007792  51.261113  0.001763  0.000618  0.000763     -0.004345\n",
       "\n",
       "[9321 rows x 6 columns]"
      ]
     },
     "execution_count": 3,
     "metadata": {},
     "output_type": "execute_result"
    }
   ],
   "source": [
    "data[\"log_ret\"] = np.log(data.Close) - np.log(data.Close.shift(1))\n",
    "data[\"RSILR\"] =ta.rsi(data.log_ret, length=15)\n",
    "data[\"EMAFLR\"]=ta.ema(data.log_ret, length=25)\n",
    "data[\"EMAMLR\"]=ta.ema(data.log_ret, length=100)\n",
    "data[\"EMASLR\"]=ta.ema(data.log_ret, length=150)\n",
    "    \n",
    "\n",
    "data[\"log_ret_next\"] = data[\"log_ret\"].shift(-1)\n",
    "data.dropna(inplace=True)\n",
    "data.reset_index(inplace=True)\n",
    "dates = data[\"Date\"]\n",
    "data.drop([\"Volume\", \"Close\", \"Date\", \"index\", \"Open\", \"High\", \"Low\", \"Adj Close\"], axis=1, inplace=True)\n",
    "data"
   ]
  },
  {
   "cell_type": "code",
   "execution_count": 4,
   "id": "a2f8ce2a-6cc2-47d3-9636-81731f42fad7",
   "metadata": {
    "scrolled": true
   },
   "outputs": [
    {
     "name": "stdout",
     "output_type": "stream",
     "text": [
      "[[0.69525585 0.58454283 0.73646855 0.5860295  0.50466096 0.74883134]\n",
      " [0.74883134 0.65774016 0.78608436 0.62794095 0.54250304 0.66725528]\n",
      " [0.66725528 0.5385073  0.77143917 0.62424619 0.54093275 0.7197093 ]\n",
      " ...\n",
      " [0.66958902 0.57119438 0.58366793 0.44080763 0.44741002 0.71275802]\n",
      " [0.71275802 0.66525915 0.61830883 0.46579447 0.4688037  0.68176503]\n",
      " [0.68176503 0.59048424 0.62732057 0.4732748  0.47513059 0.6591642 ]]\n"
     ]
    },
    {
     "data": {
      "text/html": [
       "<div>\n",
       "<style scoped>\n",
       "    .dataframe tbody tr th:only-of-type {\n",
       "        vertical-align: middle;\n",
       "    }\n",
       "\n",
       "    .dataframe tbody tr th {\n",
       "        vertical-align: top;\n",
       "    }\n",
       "\n",
       "    .dataframe thead th {\n",
       "        text-align: right;\n",
       "    }\n",
       "</style>\n",
       "<table border=\"1\" class=\"dataframe\">\n",
       "  <thead>\n",
       "    <tr style=\"text-align: right;\">\n",
       "      <th></th>\n",
       "      <th>0</th>\n",
       "      <th>1</th>\n",
       "      <th>2</th>\n",
       "      <th>3</th>\n",
       "      <th>4</th>\n",
       "      <th>5</th>\n",
       "    </tr>\n",
       "  </thead>\n",
       "  <tbody>\n",
       "    <tr>\n",
       "      <th>0</th>\n",
       "      <td>0.695256</td>\n",
       "      <td>0.584543</td>\n",
       "      <td>0.736469</td>\n",
       "      <td>0.586030</td>\n",
       "      <td>0.504661</td>\n",
       "      <td>0.748831</td>\n",
       "    </tr>\n",
       "    <tr>\n",
       "      <th>1</th>\n",
       "      <td>0.748831</td>\n",
       "      <td>0.657740</td>\n",
       "      <td>0.786084</td>\n",
       "      <td>0.627941</td>\n",
       "      <td>0.542503</td>\n",
       "      <td>0.667255</td>\n",
       "    </tr>\n",
       "    <tr>\n",
       "      <th>2</th>\n",
       "      <td>0.667255</td>\n",
       "      <td>0.538507</td>\n",
       "      <td>0.771439</td>\n",
       "      <td>0.624246</td>\n",
       "      <td>0.540933</td>\n",
       "      <td>0.719709</td>\n",
       "    </tr>\n",
       "    <tr>\n",
       "      <th>3</th>\n",
       "      <td>0.719709</td>\n",
       "      <td>0.610886</td>\n",
       "      <td>0.796787</td>\n",
       "      <td>0.649416</td>\n",
       "      <td>0.564403</td>\n",
       "      <td>0.680141</td>\n",
       "    </tr>\n",
       "    <tr>\n",
       "      <th>4</th>\n",
       "      <td>0.680141</td>\n",
       "      <td>0.554040</td>\n",
       "      <td>0.790866</td>\n",
       "      <td>0.652369</td>\n",
       "      <td>0.568689</td>\n",
       "      <td>0.742752</td>\n",
       "    </tr>\n",
       "    <tr>\n",
       "      <th>...</th>\n",
       "      <td>...</td>\n",
       "      <td>...</td>\n",
       "      <td>...</td>\n",
       "      <td>...</td>\n",
       "      <td>...</td>\n",
       "      <td>...</td>\n",
       "    </tr>\n",
       "    <tr>\n",
       "      <th>9316</th>\n",
       "      <td>0.617943</td>\n",
       "      <td>0.441813</td>\n",
       "      <td>0.553217</td>\n",
       "      <td>0.421082</td>\n",
       "      <td>0.431043</td>\n",
       "      <td>0.700061</td>\n",
       "    </tr>\n",
       "    <tr>\n",
       "      <th>9317</th>\n",
       "      <td>0.700061</td>\n",
       "      <td>0.644492</td>\n",
       "      <td>0.580792</td>\n",
       "      <td>0.439490</td>\n",
       "      <td>0.446597</td>\n",
       "      <td>0.669589</td>\n",
       "    </tr>\n",
       "    <tr>\n",
       "      <th>9318</th>\n",
       "      <td>0.669589</td>\n",
       "      <td>0.571194</td>\n",
       "      <td>0.583668</td>\n",
       "      <td>0.440808</td>\n",
       "      <td>0.447410</td>\n",
       "      <td>0.712758</td>\n",
       "    </tr>\n",
       "    <tr>\n",
       "      <th>9319</th>\n",
       "      <td>0.712758</td>\n",
       "      <td>0.665259</td>\n",
       "      <td>0.618309</td>\n",
       "      <td>0.465794</td>\n",
       "      <td>0.468804</td>\n",
       "      <td>0.681765</td>\n",
       "    </tr>\n",
       "    <tr>\n",
       "      <th>9320</th>\n",
       "      <td>0.681765</td>\n",
       "      <td>0.590484</td>\n",
       "      <td>0.627321</td>\n",
       "      <td>0.473275</td>\n",
       "      <td>0.475131</td>\n",
       "      <td>0.659164</td>\n",
       "    </tr>\n",
       "  </tbody>\n",
       "</table>\n",
       "<p>9321 rows × 6 columns</p>\n",
       "</div>"
      ],
      "text/plain": [
       "             0         1         2         3         4         5\n",
       "0     0.695256  0.584543  0.736469  0.586030  0.504661  0.748831\n",
       "1     0.748831  0.657740  0.786084  0.627941  0.542503  0.667255\n",
       "2     0.667255  0.538507  0.771439  0.624246  0.540933  0.719709\n",
       "3     0.719709  0.610886  0.796787  0.649416  0.564403  0.680141\n",
       "4     0.680141  0.554040  0.790866  0.652369  0.568689  0.742752\n",
       "...        ...       ...       ...       ...       ...       ...\n",
       "9316  0.617943  0.441813  0.553217  0.421082  0.431043  0.700061\n",
       "9317  0.700061  0.644492  0.580792  0.439490  0.446597  0.669589\n",
       "9318  0.669589  0.571194  0.583668  0.440808  0.447410  0.712758\n",
       "9319  0.712758  0.665259  0.618309  0.465794  0.468804  0.681765\n",
       "9320  0.681765  0.590484  0.627321  0.473275  0.475131  0.659164\n",
       "\n",
       "[9321 rows x 6 columns]"
      ]
     },
     "execution_count": 4,
     "metadata": {},
     "output_type": "execute_result"
    }
   ],
   "source": [
    "from sklearn.preprocessing import MinMaxScaler # as using NN feed model with between 1 or 0\n",
    "sc = MinMaxScaler(feature_range=(0,1))\n",
    "data_scaled = sc.fit_transform(data)\n",
    "print(data_scaled)\n",
    "pd.DataFrame(data_scaled)"
   ]
  },
  {
   "cell_type": "code",
   "execution_count": 5,
   "id": "52d40576-7bc0-4c85-8cdc-216a70671e10",
   "metadata": {},
   "outputs": [],
   "source": [
    "X = []\n",
    "\n",
    "backtest = 5\n",
    "for j in range(5): # number of rows of inputs\n",
    "    X.append([])\n",
    "    for i in range(backtest, data_scaled.shape[0]):\n",
    "        X[j].append(data_scaled[i-backtest:i, j])\n",
    "\n",
    "#move axis from 0 to position 2\n",
    "X=np.moveaxis(X, [0], [2])"
   ]
  },
  {
   "cell_type": "code",
   "execution_count": 6,
   "id": "bb34567c-d161-4399-92bc-fd41890d5b59",
   "metadata": {},
   "outputs": [
    {
     "data": {
      "text/plain": [
       "(9316, 5, 5)"
      ]
     },
     "execution_count": 6,
     "metadata": {},
     "output_type": "execute_result"
    }
   ],
   "source": [
    "X, y = np.array(X), np.array(data_scaled[backtest:,-2:-1])\n",
    "y = np.reshape(y,(len(y),1))\n",
    "X.shape #9316 rows of 5 days of 5 inputs"
   ]
  },
  {
   "cell_type": "code",
   "execution_count": 7,
   "id": "b599d4cb-7aa5-45b2-b097-23e146e68595",
   "metadata": {},
   "outputs": [
    {
     "data": {
      "text/plain": [
       "(9316, 1)"
      ]
     },
     "execution_count": 7,
     "metadata": {},
     "output_type": "execute_result"
    }
   ],
   "source": [
    "y.shape"
   ]
  },
  {
   "cell_type": "code",
   "execution_count": 8,
   "id": "822703a3-7549-4a17-8e5f-24029e6db06a",
   "metadata": {},
   "outputs": [],
   "source": [
    "q_80 = round(int(X.shape[0]) * 0.8)\n",
    "q_90 = round(int(X.shape[0]) * 0.9)\n",
    "\n",
    "dates_train, X_train, y_train = dates[:q_80], X[:q_80], y[:q_80]\n",
    "dates_val, X_val, y_val = dates[q_80:q_90], X[q_80:q_90], y[q_80:q_90]\n",
    "dates_test, X_test, y_test = dates[q_90:], X[q_90:], y[q_90:]"
   ]
  },
  {
   "cell_type": "code",
   "execution_count": 9,
   "id": "8f1998a6-e71c-46f3-8a04-6645e28aef52",
   "metadata": {},
   "outputs": [],
   "source": [
    "def adapt_learning_rate(epoch):\n",
    "    if epoch <= 10:\n",
    "        return 0.001\n",
    "    else:\n",
    "        return 0.0001\n",
    "from tensorflow.keras.callbacks import ModelCheckpoint\n",
    "my_lr_scheduler = tf.keras.callbacks.LearningRateScheduler(adapt_learning_rate)"
   ]
  },
  {
   "cell_type": "code",
   "execution_count": 10,
   "id": "52468509-9c52-40b8-8379-fe3a9b8c8176",
   "metadata": {
    "scrolled": true
   },
   "outputs": [
    {
     "name": "stdout",
     "output_type": "stream",
     "text": [
      "Epoch 1/20\n",
      "231/233 [============================>.] - ETA: 0s - loss: 0.0044INFO:tensorflow:Assets written to: stationary3\\assets\n"
     ]
    },
    {
     "name": "stderr",
     "output_type": "stream",
     "text": [
      "INFO:tensorflow:Assets written to: stationary3\\assets\n"
     ]
    },
    {
     "name": "stdout",
     "output_type": "stream",
     "text": [
      "233/233 [==============================] - 5s 15ms/step - loss: 0.0044 - val_loss: 0.0016 - lr: 0.0010\n",
      "Epoch 2/20\n",
      "228/233 [============================>.] - ETA: 0s - loss: 0.0015INFO:tensorflow:Assets written to: stationary3\\assets\n"
     ]
    },
    {
     "name": "stderr",
     "output_type": "stream",
     "text": [
      "INFO:tensorflow:Assets written to: stationary3\\assets\n"
     ]
    },
    {
     "name": "stdout",
     "output_type": "stream",
     "text": [
      "233/233 [==============================] - 3s 14ms/step - loss: 0.0015 - val_loss: 3.6545e-04 - lr: 0.0010\n",
      "Epoch 3/20\n",
      "226/233 [============================>.] - ETA: 0s - loss: 0.0011INFO:tensorflow:Assets written to: stationary3\\assets\n"
     ]
    },
    {
     "name": "stderr",
     "output_type": "stream",
     "text": [
      "INFO:tensorflow:Assets written to: stationary3\\assets\n"
     ]
    },
    {
     "name": "stdout",
     "output_type": "stream",
     "text": [
      "233/233 [==============================] - 3s 14ms/step - loss: 0.0011 - val_loss: 2.6884e-04 - lr: 0.0010\n",
      "Epoch 4/20\n",
      "233/233 [==============================] - 1s 5ms/step - loss: 9.2034e-04 - val_loss: 3.0556e-04 - lr: 0.0010\n",
      "Epoch 5/20\n",
      "230/233 [============================>.] - ETA: 0s - loss: 8.3902e-04INFO:tensorflow:Assets written to: stationary3\\assets\n"
     ]
    },
    {
     "name": "stderr",
     "output_type": "stream",
     "text": [
      "INFO:tensorflow:Assets written to: stationary3\\assets\n"
     ]
    },
    {
     "name": "stdout",
     "output_type": "stream",
     "text": [
      "233/233 [==============================] - 4s 15ms/step - loss: 8.4321e-04 - val_loss: 1.6450e-04 - lr: 0.0010\n",
      "Epoch 6/20\n",
      "233/233 [==============================] - 1s 5ms/step - loss: 7.8566e-04 - val_loss: 6.5076e-04 - lr: 0.0010\n",
      "Epoch 7/20\n",
      "233/233 [==============================] - 1s 5ms/step - loss: 7.2513e-04 - val_loss: 3.5979e-04 - lr: 0.0010\n",
      "Epoch 8/20\n",
      "233/233 [==============================] - 1s 5ms/step - loss: 7.0964e-04 - val_loss: 4.3220e-04 - lr: 0.0010\n",
      "Epoch 9/20\n",
      "233/233 [==============================] - 1s 5ms/step - loss: 6.8805e-04 - val_loss: 7.9906e-04 - lr: 0.0010\n",
      "Epoch 10/20\n",
      "233/233 [==============================] - 1s 5ms/step - loss: 6.2985e-04 - val_loss: 3.3015e-04 - lr: 0.0010\n",
      "Epoch 11/20\n",
      "224/233 [===========================>..] - ETA: 0s - loss: 6.3137e-04INFO:tensorflow:Assets written to: stationary3\\assets\n"
     ]
    },
    {
     "name": "stderr",
     "output_type": "stream",
     "text": [
      "INFO:tensorflow:Assets written to: stationary3\\assets\n"
     ]
    },
    {
     "name": "stdout",
     "output_type": "stream",
     "text": [
      "233/233 [==============================] - 3s 14ms/step - loss: 6.4105e-04 - val_loss: 1.5387e-04 - lr: 0.0010\n",
      "Epoch 12/20\n",
      "233/233 [==============================] - 1s 5ms/step - loss: 4.1960e-04 - val_loss: 1.5973e-04 - lr: 1.0000e-04\n",
      "Epoch 13/20\n",
      "233/233 [==============================] - 1s 5ms/step - loss: 4.1714e-04 - val_loss: 1.5513e-04 - lr: 1.0000e-04\n",
      "Epoch 14/20\n",
      "233/233 [==============================] - 1s 5ms/step - loss: 4.1549e-04 - val_loss: 1.5774e-04 - lr: 1.0000e-04\n",
      "Epoch 15/20\n",
      "233/233 [==============================] - 1s 5ms/step - loss: 4.1642e-04 - val_loss: 1.5722e-04 - lr: 1.0000e-04\n",
      "Epoch 16/20\n",
      "233/233 [==============================] - 1s 5ms/step - loss: 4.1504e-04 - val_loss: 1.5557e-04 - lr: 1.0000e-04\n",
      "Epoch 17/20\n",
      "233/233 [==============================] - 1s 5ms/step - loss: 4.1428e-04 - val_loss: 1.5484e-04 - lr: 1.0000e-04\n",
      "Epoch 18/20\n",
      "233/233 [==============================] - 1s 5ms/step - loss: 4.1384e-04 - val_loss: 1.5764e-04 - lr: 1.0000e-04\n",
      "Epoch 19/20\n",
      "233/233 [==============================] - 1s 5ms/step - loss: 4.1294e-04 - val_loss: 1.5648e-04 - lr: 1.0000e-04\n",
      "Epoch 20/20\n",
      "233/233 [==============================] - 1s 5ms/step - loss: 4.1429e-04 - val_loss: 1.6477e-04 - lr: 1.0000e-04\n"
     ]
    },
    {
     "data": {
      "text/plain": [
       "<keras.src.callbacks.History at 0x12f9abd26d0>"
      ]
     },
     "execution_count": 10,
     "metadata": {},
     "output_type": "execute_result"
    }
   ],
   "source": [
    "import tensorflow as tf\n",
    "import keras\n",
    "from keras.optimizers import Adam, RMSprop\n",
    "from keras.callbacks import History\n",
    "from keras.models import Model\n",
    "from keras import layers\n",
    "from keras.models import Sequential\n",
    "from tensorflow.keras.callbacks import ModelCheckpoint\n",
    "\n",
    "cp = ModelCheckpoint(\"stationary3/\", save_best_only=True)\n",
    "model = Sequential([layers.Input((backtest, 5), name=\"input\"),\n",
    "                    layers.LSTM(150),\n",
    "                    layers.Dense(1, name = \"Dense_layer\"),\n",
    "                    layers.Activation(\"linear\", name = \"output\")])\n",
    "\n",
    "model.compile(optimizer=RMSprop(learning_rate=0.001), loss='mse')\n",
    "model.fit(X_train, y_train, validation_data=(X_val, y_val), epochs=20, callbacks = [my_lr_scheduler, cp])"
   ]
  },
  {
   "cell_type": "code",
   "execution_count": 11,
   "id": "fc5a2768-99e6-4b86-93f3-663278c8397d",
   "metadata": {},
   "outputs": [
    {
     "name": "stdout",
     "output_type": "stream",
     "text": [
      "233/233 [==============================] - 1s 2ms/step\n",
      "30/30 [==============================] - 0s 2ms/step\n",
      "30/30 [==============================] - 0s 2ms/step\n"
     ]
    }
   ],
   "source": [
    "train_predictions = model.predict(X_train).flatten()\n",
    "val_predictions = model.predict(X_val).flatten()\n",
    "test_predictions = model.predict(X_test).flatten()"
   ]
  },
  {
   "cell_type": "code",
   "execution_count": 12,
   "id": "4b969c8a-2278-4646-a180-ff2897dce699",
   "metadata": {},
   "outputs": [
    {
     "data": {
      "image/png": "[encoded data removed]",
      "text/plain": [
       "<Figure size 2000x500 with 1 Axes>"
      ]
     },
     "metadata": {},
     "output_type": "display_data"
    }
   ],
   "source": [
    "plt.figure(figsize=(20,5))\n",
    "plt.plot(y_test, color = \"black\", label = \"Test\")\n",
    "plt.plot(test_predictions, color = \"green\", label = \"Predictions\")\n",
    "plt.legend()\n",
    "plt.show()"
   ]
  },
  {
   "cell_type": "code",
   "execution_count": 11,
   "id": "055b9803-131e-48d5-9ea7-1fd8404a1182",
   "metadata": {},
   "outputs": [],
   "source": [
    "from keras.models import load_model\n",
    "\n",
    "filename = \"stationary3\"\n",
    "model = load_model(filename)"
   ]
  },
  {
   "cell_type": "code",
   "execution_count": null,
   "id": "5f52e77c-d1bf-47d7-ab08-d5b1ec47eddf",
   "metadata": {},
   "outputs": [],
   "source": []
  },
  {
   "cell_type": "code",
   "execution_count": null,
   "id": "7220cb1a-611a-44cf-a163-03bc5e1b91c1",
   "metadata": {},
   "outputs": [],
   "source": []
  },
  {
   "cell_type": "code",
   "execution_count": null,
   "id": "88ce89a2-123f-44e6-8822-19df6dc03b2b",
   "metadata": {},
   "outputs": [],
   "source": []
  },
  {
   "cell_type": "code",
   "execution_count": null,
   "id": "78608d19-ca47-4b41-aef2-e11b65a2addf",
   "metadata": {},
   "outputs": [],
   "source": []
  },
  {
   "cell_type": "code",
   "execution_count": null,
   "id": "f80a9a29-f8f4-4fee-9d86-b30a98bf7225",
   "metadata": {},
   "outputs": [],
   "source": []
  },
  {
   "cell_type": "code",
   "execution_count": null,
   "id": "3bf34336-f347-4553-80a2-f2c4eb09b2fa",
   "metadata": {},
   "outputs": [],
   "source": []
  }
 ],
 "metadata": {
  "kernelspec": {
   "display_name": "Python 3",
   "language": "python",
   "name": "python3"
  },
  "language_info": {
   "codemirror_mode": {
    "name": "ipython",
    "version": 3
   },
   "file_extension": ".py",
   "mimetype": "text/x-python",
   "name": "python",
   "nbconvert_exporter": "python",
   "pygments_lexer": "ipython3",
   "version": "3.11.5"
  }
 },
 "nbformat": 4,
 "nbformat_minor": 5
}
